{
  "nbformat": 4,
  "nbformat_minor": 0,
  "metadata": {
    "colab": {
      "provenance": [],
      "authorship_tag": "ABX9TyNfcL/w9agPbQLiHh4MU9DM",
      "include_colab_link": true
    },
    "kernelspec": {
      "name": "python3",
      "display_name": "Python 3"
    },
    "language_info": {
      "name": "python"
    }
  },
  "cells": [
    {
      "cell_type": "markdown",
      "metadata": {
        "id": "view-in-github",
        "colab_type": "text"
      },
      "source": [
        "<a href=\"https://colab.research.google.com/github/Sneha-priya-A-s/python/blob/main/ICT_Assignment3.ipynb\" target=\"_parent\"><img src=\"https://colab.research.google.com/assets/colab-badge.svg\" alt=\"Open In Colab\"/></a>"
      ]
    },
    {
      "cell_type": "code",
      "execution_count": 4,
      "metadata": {
        "colab": {
          "base_uri": "https://localhost:8080/"
        },
        "id": "TLwQY9nxogkJ",
        "outputId": "4c633799-85da-4aad-8612-9fe44f18039b"
      },
      "outputs": [
        {
          "output_type": "stream",
          "name": "stdout",
          "text": [
            "2\n",
            "2\n",
            "2\n",
            "5\n"
          ]
        }
      ],
      "source": [
        "def middle_value(a, b, c):\n",
        "  numbers = sorted([a, b, c])\n",
        "  return numbers[1]\n",
        "print(middle_value(1, 2, 3))\n",
        "print(middle_value(3, 1, 2))\n",
        "print(middle_value(2, 3, 1))\n",
        "print(middle_value(5, 4, 6))\n"
      ]
    },
    {
      "cell_type": "code",
      "source": [
        "def add(x, y):\n",
        "    return x + y\n",
        "\n",
        "def subtract(x, y):\n",
        "    return x - y\n",
        "\n",
        "def multiply(x, y):\n",
        "    return x * y\n",
        "\n",
        "def divide(x, y):\n",
        "    if y == 0:\n",
        "        return \"Error: Division by zero!\"\n",
        "    return x / y\n",
        "\n",
        "print(\"Simple Calculator\")\n",
        "print(\"1. Add\")\n",
        "print(\"2. Subtract\")\n",
        "print(\"3. Multiply\")\n",
        "print(\"4. Divide\")\n",
        "\n",
        "choice = input(\"Enter choice (1/2/3/4): \")\n",
        "\n",
        "num1 = float(input(\"Enter first number: \"))\n",
        "num2 = float(input(\"Enter second number: \"))\n",
        "\n",
        "if choice == '1':\n",
        "    print(\"Result: \", add(num1, num2))\n",
        "elif choice == '2':\n",
        "    print(\"Result: \", subtract(num1, num2))\n",
        "elif choice == '3':\n",
        "    print(\"Result: \", multiply(num1, num2))\n",
        "elif choice == '4':\n",
        "    print(\"Result: \", divide(num1, num2))\n",
        "else:\n",
        "    print(\"Invalid input\")"
      ],
      "metadata": {
        "colab": {
          "base_uri": "https://localhost:8080/"
        },
        "id": "OaF4nuo_qWtN",
        "outputId": "b846e1e2-d9e6-4867-d58c-82fadccbc755"
      },
      "execution_count": 5,
      "outputs": [
        {
          "output_type": "stream",
          "name": "stdout",
          "text": [
            "Simple Calculator\n",
            "1. Add\n",
            "2. Subtract\n",
            "3. Multiply\n",
            "4. Divide\n",
            "Enter choice (1/2/3/4): 1\n",
            "Enter first number: 3\n",
            "Enter second number: 6\n",
            "Result:  9.0\n"
          ]
        }
      ]
    },
    {
      "cell_type": "code",
      "source": [
        "import math\n",
        "def hypotenuse(a, b):\n",
        "    return math.sqrt(a**2 + b**2)\n",
        "print(f\"Hypotenuse for sides 3 and 4: {hypotenuse(3, 4)}\")\n",
        "print(f\"Hypotenuse for sides 5 and 12: {hypotenuse(5, 12)}\")\n",
        "print(f\"Hypotenuse for sides 7 and 24: {hypotenuse(7, 24)}\")"
      ],
      "metadata": {
        "colab": {
          "base_uri": "https://localhost:8080/"
        },
        "id": "HHoAIpfhqovZ",
        "outputId": "61d84569-61a1-4aa7-8171-407508c79e25"
      },
      "execution_count": 6,
      "outputs": [
        {
          "output_type": "stream",
          "name": "stdout",
          "text": [
            "Hypotenuse for sides 3 and 4: 5.0\n",
            "Hypotenuse for sides 5 and 12: 13.0\n",
            "Hypotenuse for sides 7 and 24: 25.0\n"
          ]
        }
      ]
    },
    {
      "cell_type": "code",
      "source": [
        "class Rectangle:\n",
        "    def __init__(self, length, width):\n",
        "        self.length = length\n",
        "        self.width = width\n",
        "\n",
        "    def perimeter(self):\n",
        "        return 2 * (self.length + self.width)\n",
        "\n",
        "    def area(self):\n",
        "        return self.length * self.width\n",
        "\n",
        "    def display(self):\n",
        "        print(\"Length:\", self.length)\n",
        "        print(\"Width:\", self.width)\n",
        "        print(\"Perimeter:\", self.perimeter())\n",
        "        print(\"Area:\", self.area())\n",
        "length = float(input(\"Enter the length of the rectangle: \"))\n",
        "width = float(input(\"Enter the width of the rectangle: \"))\n",
        "rectangle = Rectangle(length, width)\n",
        "rectangle.display()"
      ],
      "metadata": {
        "colab": {
          "base_uri": "https://localhost:8080/"
        },
        "id": "VTB-Cw_Aq_4R",
        "outputId": "72863df1-c43d-4904-cb0a-9fe49cea6e04"
      },
      "execution_count": 7,
      "outputs": [
        {
          "output_type": "stream",
          "name": "stdout",
          "text": [
            "Enter the length of the rectangle: 25\n",
            "Enter the width of the rectangle: 6\n",
            "Length: 25.0\n",
            "Width: 6.0\n",
            "Perimeter: 62.0\n",
            "Area: 150.0\n"
          ]
        }
      ]
    },
    {
      "cell_type": "code",
      "source": [
        "class BankAccount:\n",
        "    def __init__(self, accountNumber, name, balance):\n",
        "        self.accountNumber = accountNumber\n",
        "        self.name = name\n",
        "        self.balance = balance\n",
        "\n",
        "    def deposit(self, amount):\n",
        "        self.balance += amount\n",
        "        return self.balance\n",
        "\n",
        "    def withdrawal(self, amount):\n",
        "        if amount > self.balance:\n",
        "            return \"Insufficient balance\"\n",
        "        self.balance -= amount\n",
        "        return self.balance\n",
        "\n",
        "    def bankFees(self):\n",
        "        self.balance *= 0.95\n",
        "        return self.balance\n",
        "\n",
        "    def display(self):\n",
        "        print(\"Account Number:\", self.accountNumber)\n",
        "        print(\"Name:\", self.name)\n",
        "        print(\"Balance:\", self.balance)\n",
        "accountNumber = int(input(\"Enter the account number: \"))\n",
        "name = input(\"Enter the name of the account owner: \")\n",
        "balance = float(input(\"Enter the initial balance: \"))\n",
        "bank_account = BankAccount(accountNumber, name, balance)\n",
        "bank_account.display()\n",
        "deposit_amount = float(input(\"Enter the deposit amount: \"))\n",
        "bank_account.deposit(deposit_amount)\n",
        "print(\"Balance after deposit:\", bank_account.balance)\n",
        "withdrawal_amount = float(input(\"Enter the withdrawal amount: \"))\n",
        "bank_account.withdrawal(withdrawal_amount)\n",
        "print(\"Balance after withdrawal:\", bank_account.balance)\n",
        "bank_account.bankFees()\n",
        "print(\"Balance after applying bank fees:\", bank_account.balance)"
      ],
      "metadata": {
        "colab": {
          "base_uri": "https://localhost:8080/"
        },
        "id": "WFfafBNJrMwJ",
        "outputId": "6180e488-6f94-42be-b10c-f81a8c3513fa"
      },
      "execution_count": 8,
      "outputs": [
        {
          "output_type": "stream",
          "name": "stdout",
          "text": [
            "Enter the account number: 12082000\n",
            "Enter the name of the account owner: Snehapriya\n",
            "Enter the initial balance: 100000\n",
            "Account Number: 12082000\n",
            "Name: Snehapriya\n",
            "Balance: 100000.0\n",
            "Enter the deposit amount: 200000\n",
            "Balance after deposit: 300000.0\n",
            "Enter the withdrawal amount: 150000\n",
            "Balance after withdrawal: 150000.0\n",
            "Balance after applying bank fees: 142500.0\n"
          ]
        }
      ]
    }
  ]
}